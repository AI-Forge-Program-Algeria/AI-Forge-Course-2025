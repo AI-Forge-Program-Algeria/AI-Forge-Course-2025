{
 "cells": [
  {
   "cell_type": "markdown",
   "id": "fa70f1cc",
   "metadata": {
    "papermill": {
     "duration": 0.009919,
     "end_time": "2024-11-11T23:23:52.024139",
     "exception": false,
     "start_time": "2024-11-11T23:23:52.014220",
     "status": "completed"
    },
    "tags": []
   },
   "source": [
    "# Object-Oriented Programming in Python"
   ]
  },
  {
   "cell_type": "markdown",
   "id": "d37b7624",
   "metadata": {},
   "source": [
    "![1_courses/oop_illustration.svg](oop_illustration.svg)"
   ]
  },
  {
   "cell_type": "markdown",
   "id": "b3a69294",
   "metadata": {
    "papermill": {
     "duration": 0.009482,
     "end_time": "2024-11-11T23:23:52.043081",
     "exception": false,
     "start_time": "2024-11-11T23:23:52.033599",
     "status": "completed"
    },
    "tags": []
   },
   "source": [
    "**Author: Maede Maftouni, Kaggle. Modified by: Ihssene Brahimi, World Learning Algeria**\n",
    "\n",
    "Welcome to the Object-Oriented Programming (OOP) in Python notebook! This notebook introduces fundamental OOP concepts with hands-on examples and practice.\n",
    "\n",
    "Here are some key benefits of Object-Oriented Programming (OOP):\n",
    "\n",
    "- **Modularity**: Breaks down complex code into small, manageable parts, making it easier to work with.\n",
    "- **Reusability**: Classes can be reused across projects, reducing duplication and saving time.  \n",
    "- **Scalability**: New features can be added easily by building on existing classes.\n",
    "- **Data Security**: Encapsulation hides sensitive data, protecting it from unwanted access.\n",
    "- **Maintainability**: Changes in one part of the code don’t affect others, making updates easier.\n",
    "- **Flexibility**: Polymorphism allows the same method name to work differently in each class, keeping code consistent and adaptable. \n",
    "\n",
    "These features help create clean, organized, and efficient code, especially for larger projects.\n",
    "\n",
    "**Key concepts covered:**\n",
    "\n",
    "- [Classes and Objects](#class)\n",
    "- [Attributes and Methods](#methods)\n",
    "- [Inheritance](#inherit)\n",
    "- [Polymorphism](#polymorph)\n",
    "- [Abstraction](#abstract)\n",
    "- [Encapsulation](#encaps)\n",
    "\n",
    "![](https://media.licdn.com/dms/image/v2/D5612AQF50J9eOqvAPQ/article-cover_image-shrink_720_1280/article-cover_image-shrink_720_1280/0/1674911955814?e=1736380800&v=beta&t=sZBhv88PNsXT65B_zQubwedzccM2oGjOCCwmqkc-ITA)\n",
    "\n",
    "Each section includes explanations, code examples, and exercises to help you understand and apply OOP principles effectively.\n"
   ]
  },
  {
   "cell_type": "markdown",
   "id": "bddd46a5",
   "metadata": {
    "papermill": {
     "duration": 0.009128,
     "end_time": "2024-11-11T23:23:52.061904",
     "exception": false,
     "start_time": "2024-11-11T23:23:52.052776",
     "status": "completed"
    },
    "tags": []
   },
   "source": [
    "<a id=\"class\"></a>\n",
    "# Classes and Objects"
   ]
  },
  {
   "cell_type": "markdown",
   "id": "7bb26983",
   "metadata": {
    "papermill": {
     "duration": 0.009038,
     "end_time": "2024-11-11T23:23:52.080447",
     "exception": false,
     "start_time": "2024-11-11T23:23:52.071409",
     "status": "completed"
    },
    "tags": []
   },
   "source": [
    "A **class** is a blueprint  or template that defines the structure and behavior of something. It describes what information it holds and what it can do.\n",
    "\n",
    "An object is an instance of a class, a concrete example created from the class blueprint. Each object has its own specific data and can use the actions defined by the class.\n",
    "\n",
    "\n",
    "### The `__init__` Method\n",
    "The `__init__` method  is a special method in Python that sets up a new object.\n",
    "\n",
    "- It runs automatically every time an object is created from a class.\n",
    "__init__ assigns values to the object’s attributes right at the start, so the object is ready to use immediately.\n",
    "- Think of it as a setup step that prepares each object with the information it needs from the beginning.\n",
    "In short, __init__ gives each new object its starting values when it’s created.\n",
    "\n",
    "### Example\n",
    "Here's a simple `Car` class that includes attributes for `make`, `model`, `year` and `color`. We’ll create an instance (object) of this class.\n",
    "\n",
    "<div style=\"text-align: center;\">\n",
    "  <img src=\"https://trio.dev/wp-content/uploads/2024/03/Object-Oriented-Programming-class-car-analogy-jpg.webp\" alt=\"Centered Image\" width=\"70%\">\n",
    "</div>\n",
    "\n"
   ]
  },
  {
   "cell_type": "code",
   "execution_count": 1,
   "id": "4f3b6485",
   "metadata": {
    "execution": {
     "iopub.execute_input": "2024-11-11T23:23:52.102229Z",
     "iopub.status.busy": "2024-11-11T23:23:52.101771Z",
     "iopub.status.idle": "2024-11-11T23:23:52.116904Z",
     "shell.execute_reply": "2024-11-11T23:23:52.115675Z"
    },
    "papermill": {
     "duration": 0.028862,
     "end_time": "2024-11-11T23:23:52.119604",
     "exception": false,
     "start_time": "2024-11-11T23:23:52.090742",
     "status": "completed"
    },
    "tags": []
   },
   "outputs": [
    {
     "name": "stdout",
     "output_type": "stream",
     "text": [
      "2020 Blue Toyota Camry\n"
     ]
    }
   ],
   "source": [
    "class Car:\n",
    "    def __init__(self, make, model, year, color):\n",
    "        self.make = make\n",
    "        self.model = model\n",
    "        self.year = year\n",
    "        self.color = color  # New attribute for color\n",
    "\n",
    "    def display_info(self):\n",
    "        return f\"{self.year} {self.color} {self.make} {self.model}\"\n",
    "\n",
    "# Creating an object of Car class with color\n",
    "my_car = Car(\"Toyota\", \"Camry\", 2020, \"Blue\")\n",
    "print(my_car.display_info())  # Outputs: 2020 Blue Toyota Camry"
   ]
  },
  {
   "cell_type": "code",
   "execution_count": 2,
   "id": "6ab2c637",
   "metadata": {
    "execution": {
     "iopub.execute_input": "2024-11-11T23:23:52.141508Z",
     "iopub.status.busy": "2024-11-11T23:23:52.141092Z",
     "iopub.status.idle": "2024-11-11T23:23:52.150273Z",
     "shell.execute_reply": "2024-11-11T23:23:52.149149Z"
    },
    "papermill": {
     "duration": 0.023558,
     "end_time": "2024-11-11T23:23:52.152869",
     "exception": false,
     "start_time": "2024-11-11T23:23:52.129311",
     "status": "completed"
    },
    "tags": []
   },
   "outputs": [
    {
     "data": {
      "text/plain": [
       "('Toyota', 'Camry', 2020, 'Blue')"
      ]
     },
     "execution_count": 2,
     "metadata": {},
     "output_type": "execute_result"
    }
   ],
   "source": [
    "my_car.make, my_car.model, my_car.year, my_car.color"
   ]
  },
  {
   "cell_type": "code",
   "execution_count": 3,
   "id": "306fbf7c",
   "metadata": {
    "execution": {
     "iopub.execute_input": "2024-11-11T23:23:52.174798Z",
     "iopub.status.busy": "2024-11-11T23:23:52.173827Z",
     "iopub.status.idle": "2024-11-11T23:23:52.181138Z",
     "shell.execute_reply": "2024-11-11T23:23:52.179989Z"
    },
    "papermill": {
     "duration": 0.020616,
     "end_time": "2024-11-11T23:23:52.183409",
     "exception": false,
     "start_time": "2024-11-11T23:23:52.162793",
     "status": "completed"
    },
    "tags": []
   },
   "outputs": [
    {
     "data": {
      "text/plain": [
       "'2020 Blue Toyota Camry'"
      ]
     },
     "execution_count": 3,
     "metadata": {},
     "output_type": "execute_result"
    }
   ],
   "source": [
    "my_car.display_info()"
   ]
  },
  {
   "cell_type": "markdown",
   "id": "64e3c2b7",
   "metadata": {
    "papermill": {
     "duration": 0.009423,
     "end_time": "2024-11-11T23:23:52.202673",
     "exception": false,
     "start_time": "2024-11-11T23:23:52.193250",
     "status": "completed"
    },
    "tags": []
   },
   "source": [
    "<a id=\"method\"></a>\n",
    "## Attributes and Methods\n",
    "\n",
    "In Python classes, **attributes** are variables that store data about an object, while **methods** are functions that perform actions using that data.\n",
    "\n",
    "- **Attributes** represent the `states` or properties of an object, like its color, model, or year.\n",
    "- **Methods** () define `behaviors` or actions that the object can perform, such as starting, stopping, or displaying details.\n",
    "\n",
    "The `self` parameter in methods refers to the current instance of the class, allowing us to access and modify its attributes.\n",
    "\n",
    "<div style=\"text-align: center;\">\n",
    "  <img src=\"https://codefinity-content-media.s3.eu-west-1.amazonaws.com/e1e67af1-6138-4c4c-ae64-8fd26504ae2c/Section_1/7e499879-e5e7-43cf-b4f8-bc07dd582b78_car.png\" alt=\"Centered Image\" width=\"70%\">\n",
    "</div>\n",
    "\n",
    "### Example\n",
    "Below, we define a `Car` class with attributes for `make`, `model`, and `year`. We also add methods for:\n",
    "- displaying the car's information\n",
    "- honking\n",
    "- calculating car’s age based on the current year."
   ]
  },
  {
   "cell_type": "code",
   "execution_count": 4,
   "id": "2cc70a77",
   "metadata": {
    "execution": {
     "iopub.execute_input": "2024-11-11T23:23:52.223965Z",
     "iopub.status.busy": "2024-11-11T23:23:52.223535Z",
     "iopub.status.idle": "2024-11-11T23:23:52.235543Z",
     "shell.execute_reply": "2024-11-11T23:23:52.234484Z"
    },
    "papermill": {
     "duration": 0.025513,
     "end_time": "2024-11-11T23:23:52.238004",
     "exception": false,
     "start_time": "2024-11-11T23:23:52.212491",
     "status": "completed"
    },
    "tags": []
   },
   "outputs": [
    {
     "data": {
      "text/plain": [
       "4"
      ]
     },
     "execution_count": 4,
     "metadata": {},
     "output_type": "execute_result"
    }
   ],
   "source": [
    "from datetime import datetime\n",
    "\n",
    "class Car:\n",
    "    # Initializer method with attributes\n",
    "    def __init__(self, make, model, year, color):\n",
    "        self.make = make      # Attribute for car's make\n",
    "        self.model = model    # Attribute for car's model\n",
    "        self.year = year      # Attribute for car's year\n",
    "        self.color = color    # Attribute for car's color\n",
    "\n",
    "    # Method to display the car's information\n",
    "    def display_info(self):\n",
    "        return f\"{self.year} {self.color} {self.make} {self.model}\"\n",
    "\n",
    "    # Method for the car to honk\n",
    "    def honk(self):\n",
    "        return f\"{self.make} {self.model} goes 'Beep beep!'\"\n",
    "    \n",
    "    # Method to calculate the car's age\n",
    "    def age(self):\n",
    "        current_year = datetime.now().year\n",
    "        return current_year - self.year\n",
    "\n",
    "my_car = Car('Toyota', 'Camery', 2020, 'Black')\n",
    "my_car.age()"
   ]
  },
  {
   "cell_type": "markdown",
   "id": "cb27a364",
   "metadata": {
    "papermill": {
     "duration": 0.009811,
     "end_time": "2024-11-11T23:23:52.258227",
     "exception": false,
     "start_time": "2024-11-11T23:23:52.248416",
     "status": "completed"
    },
    "tags": []
   },
   "source": [
    "In Python, an **object** is an instance of a class, meaning it's a specific example created from a class template. When we create an object, we provide values for the class’s attributes, which then belong specifically to that object. \n",
    "\n",
    "For example, let’s create an object of the `Car` class for a Toyota Camry:\n",
    "\n",
    "<div style=\"text-align: center;\">\n",
    "  <img src=\"https://blogger.googleusercontent.com/img/b/R29vZ2xl/AVvXsEgrBZHzQ6GHE43sVzciX8UIJKr2-U7tBe4JIGs-clfCdkEtAvIjgIfRHBmu8ATwnp0YioX_fXitW2SpmCOJCVtsc5mlk3cJ7iEfukoEGOF_tDLlHBy0F8CcaWAm-KtDDLTy38HqXkec6y35KHTXMwCm-tqV37FELyh4YskGBOQ9GtvZNdIGYB1Wm7qy4n7_/s723/class.PNG\" alt=\"Centered Image\" width=\"70%\">\n",
    "</div>"
   ]
  },
  {
   "cell_type": "code",
   "execution_count": 5,
   "id": "de31e14c",
   "metadata": {
    "execution": {
     "iopub.execute_input": "2024-11-11T23:23:52.279835Z",
     "iopub.status.busy": "2024-11-11T23:23:52.279387Z",
     "iopub.status.idle": "2024-11-11T23:23:52.286429Z",
     "shell.execute_reply": "2024-11-11T23:23:52.285041Z"
    },
    "papermill": {
     "duration": 0.020958,
     "end_time": "2024-11-11T23:23:52.289046",
     "exception": false,
     "start_time": "2024-11-11T23:23:52.268088",
     "status": "completed"
    },
    "tags": []
   },
   "outputs": [
    {
     "name": "stdout",
     "output_type": "stream",
     "text": [
      "2020 White Toyota Camry\n",
      "Toyota Camry goes 'Beep beep!'\n",
      "The car is 4 years old.\n"
     ]
    }
   ],
   "source": [
    "# Creating an instance (object) of Car class with color\n",
    "my_car = Car(\"Toyota\", \"Camry\", 2020, \"White\")\n",
    "print(my_car.display_info())   # Outputs: 2020 Blue Toyota Camry\n",
    "print(my_car.honk())           # Outputs: Toyota Camry goes 'Beep beep!'\n",
    "print(f\"The car is {my_car.age()} years old.\")  # Outputs the car's age\n"
   ]
  },
  {
   "cell_type": "markdown",
   "id": "2b7574b9",
   "metadata": {
    "papermill": {
     "duration": 0.009774,
     "end_time": "2024-11-11T23:23:52.309031",
     "exception": false,
     "start_time": "2024-11-11T23:23:52.299257",
     "status": "completed"
    },
    "tags": []
   },
   "source": [
    "### Explanation\n",
    "- **`my_car`**: This is the object we created, representing a specific Toyota Camry. \n",
    "- **Attributes**: `my_car` has specific values for `make` (\"Toyota\"), `model` (\"Camry\"), `year` (2020), and `color` (\"White\").\n",
    "- **Methods**: The object can use methods defined in the `Car` class, like `display_info()` to show details, `honk()` to simulate honking, and `age()` to calculate the car’s age.\n",
    "\n",
    "Here, `my_car` is an example of an object created from the `Car` class, with its own unique data and abilities, just like a real car with specific characteristics and actions it can perform."
   ]
  },
  {
   "cell_type": "markdown",
   "id": "bdbc3cc0",
   "metadata": {
    "papermill": {
     "duration": 0.009716,
     "end_time": "2024-11-11T23:23:52.328843",
     "exception": false,
     "start_time": "2024-11-11T23:23:52.319127",
     "status": "completed"
    },
    "tags": []
   },
   "source": [
    "<a id=\"inherit\"></a>\n",
    "# Inheritance"
   ]
  },
  {
   "cell_type": "markdown",
   "id": "d5ad0948",
   "metadata": {
    "papermill": {
     "duration": 0.009671,
     "end_time": "2024-11-11T23:23:52.348764",
     "exception": false,
     "start_time": "2024-11-11T23:23:52.339093",
     "status": "completed"
    },
    "tags": []
   },
   "source": [
    "**Inheritance** is a key feature in object-oriented programming that allows a class (child class) to inherit attributes and methods from another class (parent class). This means the child class automatically has the functionality of the parent, but can also extend it with additional attributes or methods, or modify (override) the behavior of the parent class.\n",
    "\n",
    "Example: Inheritance with Car and ElectricCar Classes\n",
    "\n",
    "<div style=\"text-align: center;\">\n",
    "  <img src=\"https://i0.wp.com/www.xamnation.com/wp-content/uploads/2020/03/object-oriented-programming-concepts-4.png?w=450&ssl=1\" alt=\"Centered Image\" width=\"50%\">\n",
    "</div>\n",
    "\n",
    "\n",
    "**Inheritance** allows us to create a child class that inherits attributes and methods from a parent class. We’ll use the existing `Car` class as our parent and extend it to create an `ElectricCar` child class that includes additional functionality specific to electric vehicles, like `battery_level` and `charge_battery`.\n"
   ]
  },
  {
   "cell_type": "code",
   "execution_count": 6,
   "id": "b1bf96f3",
   "metadata": {
    "execution": {
     "iopub.execute_input": "2024-11-11T23:23:52.376298Z",
     "iopub.status.busy": "2024-11-11T23:23:52.375838Z",
     "iopub.status.idle": "2024-11-11T23:23:52.388949Z",
     "shell.execute_reply": "2024-11-11T23:23:52.387624Z"
    },
    "papermill": {
     "duration": 0.031053,
     "end_time": "2024-11-11T23:23:52.393449",
     "exception": false,
     "start_time": "2024-11-11T23:23:52.362396",
     "status": "completed"
    },
    "tags": []
   },
   "outputs": [
    {
     "name": "stdout",
     "output_type": "stream",
     "text": [
      "2022 5000 Tesla Model 3\n",
      "2022 5000 Tesla Model 3, Battery level: 0%\n",
      "Charged 50%. Battery level now: 50%.\n",
      "2022 5000 Tesla Model 3\n",
      "2022 5000 Tesla Model 3, Battery level: 50%\n"
     ]
    }
   ],
   "source": [
    "# New ElectricCar class (child class) that inherits from Car\n",
    "class ElectricCar(Car):\n",
    "    def __init__(self, make, model, year, mileage=0, battery_capacity=100,battery_level = 0):\n",
    "        # Initialize attributes from the parent Car class\n",
    "        super().__init__(make, model, year, mileage)\n",
    "        self.battery_capacity = battery_capacity  # New attribute for electric car battery capacity\n",
    "        self.battery_level = battery_level                   # Battery level starts at 0%\n",
    "\n",
    "    # Method to charge the battery\n",
    "    def charge_battery(self, amount = 0):\n",
    "        if amount > 0:\n",
    "            if self.battery_level + amount <= self.battery_capacity:\n",
    "                self.battery_level += amount\n",
    "                print(f\"Charged {amount}%. Battery level now: {self.battery_level}%.\")\n",
    "            else:\n",
    "                print(\"Cannot charge beyond battery capacity!\")\n",
    "        else:\n",
    "            print(\"Charge amount must be positive.\")\n",
    "\n",
    "    # Override display_info to add battery level information\n",
    "    def display_info(self):\n",
    "        base_info = super().display_info()  # Get the basic info from Car class\n",
    "        print(base_info)\n",
    "        return f\"{base_info}, Battery level: {self.battery_level}%\"\n",
    "\n",
    "# Creating an instance of ElectricCar\n",
    "my_electric_car = ElectricCar(\"Tesla\", \"Model 3\", 2022, mileage=5000)\n",
    "print(my_electric_car.display_info())  # Outputs: 2022 Tesla Model 3, Mileage: 5000 miles, Battery level: 0%\n",
    "my_electric_car.charge_battery(50)     # Outputs: Charged 50%. Battery level now: 50%.\n",
    "print(my_electric_car.display_info())  # Outputs updated battery level"
   ]
  },
  {
   "cell_type": "code",
   "execution_count": 7,
   "id": "9f989f1b",
   "metadata": {
    "execution": {
     "iopub.execute_input": "2024-11-11T23:23:52.419983Z",
     "iopub.status.busy": "2024-11-11T23:23:52.419436Z",
     "iopub.status.idle": "2024-11-11T23:23:52.427381Z",
     "shell.execute_reply": "2024-11-11T23:23:52.426097Z"
    },
    "papermill": {
     "duration": 0.023245,
     "end_time": "2024-11-11T23:23:52.430032",
     "exception": false,
     "start_time": "2024-11-11T23:23:52.406787",
     "status": "completed"
    },
    "tags": []
   },
   "outputs": [
    {
     "name": "stdout",
     "output_type": "stream",
     "text": [
      "Charged 20%. Battery level now: 50%.\n",
      "2002 0 Tesla Model 3\n",
      "2002 0 Tesla Model 3, Battery level: 50%\n"
     ]
    }
   ],
   "source": [
    "my_electric_car = ElectricCar(\"Tesla\", \"Model 3\", 2002,battery_level = 30)\n",
    "my_electric_car.charge_battery(20)\n",
    "print(my_electric_car.display_info())"
   ]
  },
  {
   "cell_type": "markdown",
   "id": "a514ff1d",
   "metadata": {
    "papermill": {
     "duration": 0.010585,
     "end_time": "2024-11-11T23:23:52.451153",
     "exception": false,
     "start_time": "2024-11-11T23:23:52.440568",
     "status": "completed"
    },
    "tags": []
   },
   "source": [
    "### Key Points\n",
    "- **Parent Class (Car)**: Defines common attributes (`make`, `model`, `year`, `mileage`) and methods (`display_info`, `add_mileage`).\n",
    "- **Child Class (ElectricCar)**: Inherits these attributes and methods, and adds `battery_capacity` and `battery_level` attributes, as well as the `charge_battery` method.\n",
    "- **Method Overriding**: `ElectricCar` overrides the `display_info` method to include battery information, while still using the base information from `Car`.\n",
    "\n",
    "With this setup, `ElectricCar` inherits the core functionality from `Car` and extends it with electric car-specific features, demonstrating the flexibility and efficiency of inheritance."
   ]
  },
  {
   "cell_type": "markdown",
   "id": "d86d5448",
   "metadata": {
    "papermill": {
     "duration": 0.010372,
     "end_time": "2024-11-11T23:23:52.472262",
     "exception": false,
     "start_time": "2024-11-11T23:23:52.461890",
     "status": "completed"
    },
    "tags": []
   },
   "source": [
    "<a id=\"polymorph\"></a>\n",
    "# Polymorphism"
   ]
  },
  {
   "cell_type": "markdown",
   "id": "26fdfb7d",
   "metadata": {
    "papermill": {
     "duration": 0.010036,
     "end_time": "2024-11-11T23:23:52.492749",
     "exception": false,
     "start_time": "2024-11-11T23:23:52.482713",
     "status": "completed"
    },
    "tags": []
   },
   "source": [
    "**Polymorphism** allows us to use the same method name across different classes, with each class implementing the method in its own way. This is useful when different types of objects share a common action but carry it out differently.\n",
    "\n",
    "### Example\n",
    "In this example, we’ll use a `Car` class and an `ElectricCar` class. Both classes will have a `refuel` method, but each will implement it differently:\n",
    "- **Regular Car**: Refuels by adding gasoline.\n",
    "- **Electric Car**: Refuels by charging its battery.\n",
    "\n",
    "This shows how polymorphism allows both types of cars to “refuel,” but in ways that are specific to each class.\n"
   ]
  },
  {
   "cell_type": "code",
   "execution_count": 8,
   "id": "ca358777",
   "metadata": {
    "execution": {
     "iopub.execute_input": "2024-11-11T23:23:52.515851Z",
     "iopub.status.busy": "2024-11-11T23:23:52.515314Z",
     "iopub.status.idle": "2024-11-11T23:23:52.529071Z",
     "shell.execute_reply": "2024-11-11T23:23:52.527929Z"
    },
    "papermill": {
     "duration": 0.029084,
     "end_time": "2024-11-11T23:23:52.532195",
     "exception": false,
     "start_time": "2024-11-11T23:23:52.503111",
     "status": "completed"
    },
    "tags": []
   },
   "outputs": [
    {
     "name": "stdout",
     "output_type": "stream",
     "text": [
      "Added 10 gallons of gasoline. Fuel level is now 10 gallons.\n",
      "Charged 20%. Battery level is now 20%.\n"
     ]
    }
   ],
   "source": [
    "# Parent Car class\n",
    "class Car:\n",
    "    def __init__(self, make, model, year, fuel_level=0):\n",
    "        self.make = make\n",
    "        self.model = model\n",
    "        self.year = year\n",
    "        self.fuel_level = fuel_level\n",
    "\n",
    "    # Method to \"refuel\" a regular car with gasoline\n",
    "    def refuel(self, amount):\n",
    "        self.fuel_level += amount\n",
    "        print(f\"Added {amount} gallons of gasoline. Fuel level is now {self.fuel_level} gallons.\")\n",
    "\n",
    "# Child ElectricCar class inheriting from Car\n",
    "class ElectricCar(Car):\n",
    "    def __init__(self, make, model, year, battery_level=0):\n",
    "        super().__init__(make, model, year)\n",
    "        self.battery_level = battery_level  # Electric cars have battery level instead of fuel level\n",
    "\n",
    "    # Overriding the refuel method to charge the battery instead\n",
    "    def refuel(self, amount):\n",
    "        self.battery_level += amount\n",
    "        print(f\"Charged {amount}%. Battery level is now {self.battery_level}%.\")\n",
    "\n",
    "# Creating instances of Car and ElectricCar\n",
    "my_gas_car = Car(\"Toyota\", \"Camry\", 2020)\n",
    "my_electric_car = ElectricCar(\"Tesla\", \"Model S\", 2022)\n",
    "\n",
    "# Refueling the gas car\n",
    "my_gas_car.refuel(10)  # Outputs: Added 10 gallons of gasoline. Fuel level is now 10 gallons.\n",
    "\n",
    "# Refueling the electric car (charging the battery)\n",
    "my_electric_car.refuel(20)  # Outputs: Charged 20%. Battery level is now 20%.\n"
   ]
  },
  {
   "cell_type": "markdown",
   "id": "b02a1b6f",
   "metadata": {
    "papermill": {
     "duration": 0.014891,
     "end_time": "2024-11-11T23:23:52.561826",
     "exception": false,
     "start_time": "2024-11-11T23:23:52.546935",
     "status": "completed"
    },
    "tags": []
   },
   "source": [
    "### Key Points\n",
    "- **Polymorphic Method**: The `refuel` method is shared across `Car` and `ElectricCar`, but each class provides its own version of the method to suit its needs.\n",
    "- **Different Implementations**: `Car` implements `refuel` to add gasoline, while `ElectricCar` implements `refuel` to charge the battery.\n",
    "\n",
    "This demonstrates polymorphism by allowing different types of cars to “refuel” in a way that matches their characteristics, even though they use the same method name."
   ]
  },
  {
   "cell_type": "markdown",
   "id": "60294b13",
   "metadata": {
    "papermill": {
     "duration": 0.010581,
     "end_time": "2024-11-11T23:23:52.584284",
     "exception": false,
     "start_time": "2024-11-11T23:23:52.573703",
     "status": "completed"
    },
    "tags": []
   },
   "source": [
    "<a id=\"abstract\"></a>\n",
    "# Abstraction"
   ]
  },
  {
   "cell_type": "markdown",
   "id": "e3ad7b3c",
   "metadata": {
    "papermill": {
     "duration": 0.010476,
     "end_time": "2024-11-11T23:23:52.605144",
     "exception": false,
     "start_time": "2024-11-11T23:23:52.594668",
     "status": "completed"
    },
    "tags": []
   },
   "source": [
    "**Abstraction** allows us to define a common interface for related classes while hiding implementation details. It’s a way of setting up a “template” that subclasses must follow, ensuring they implement essential methods without needing to specify how each method works in the base class.\n",
    "\n",
    "In Python, we can use an **abstract base class** to define methods that subclasses are required to implement.\n",
    "\n",
    "\n",
    "<div style=\"text-align: center;\">\n",
    "  <img src=\"https://www.learncomputerscienceonline.com/wp-content/uploads/2020/02/Abstraction-In-Java-.jpg\" alt=\"Centered Image\" width=\"30%\">\n",
    "</div>\n",
    "\n",
    "\n",
    "### Example\n",
    "In this example, `Car` is an abstract base class with a `refuel` method that every subclass must implement. Then, we create `GasCar` and `ElectricCar` subclasses, each providing its own version of `refuel`:\n"
   ]
  },
  {
   "cell_type": "code",
   "execution_count": 9,
   "id": "63b66a27",
   "metadata": {
    "execution": {
     "iopub.execute_input": "2024-11-11T23:23:52.629311Z",
     "iopub.status.busy": "2024-11-11T23:23:52.627935Z",
     "iopub.status.idle": "2024-11-11T23:23:52.649450Z",
     "shell.execute_reply": "2024-11-11T23:23:52.647809Z"
    },
    "papermill": {
     "duration": 0.036949,
     "end_time": "2024-11-11T23:23:52.652486",
     "exception": false,
     "start_time": "2024-11-11T23:23:52.615537",
     "status": "completed"
    },
    "tags": []
   },
   "outputs": [
    {
     "name": "stdout",
     "output_type": "stream",
     "text": [
      "Added 10 gallons of gasoline. Fuel level: 10 gallons.\n",
      "Charged 20%. Battery level: 20%.\n"
     ]
    }
   ],
   "source": [
    "from abc import ABC, abstractmethod\n",
    "\n",
    "# Abstract Car class\n",
    "class Car(ABC):\n",
    "    def __init__(self, make, model, year):\n",
    "        self.make = make\n",
    "        self.model = model\n",
    "        self.year = year\n",
    "\n",
    "    # Abstract method that subclasses must implement\n",
    "    @abstractmethod\n",
    "    def refuel(self, amount):\n",
    "        pass\n",
    "\n",
    "    def display_info(self):\n",
    "        return f\"{self.year} {self.make} {self.model}\"\n",
    "\n",
    "# Subclass for a gasoline-powered car\n",
    "class GasCar(Car):\n",
    "    def __init__(self, make, model, year, fuel_level=0, tank_capacity=15):\n",
    "        super().__init__(make, model, year)\n",
    "        self.fuel_level = fuel_level\n",
    "        self.tank_capacity = tank_capacity\n",
    "\n",
    "    # Implementation of refuel for gasoline cars\n",
    "    def refuel(self, amount):\n",
    "        if amount > 0:\n",
    "            if self.fuel_level + amount <= self.tank_capacity:\n",
    "                self.fuel_level += amount\n",
    "                print(f\"Added {amount} gallons of gasoline. Fuel level: {self.fuel_level} gallons.\")\n",
    "            else:\n",
    "                print(\"Cannot add that much gasoline; tank will overflow!\")\n",
    "        else:\n",
    "            print(\"Fuel amount must be positive.\")\n",
    "\n",
    "# Subclass for an electric car\n",
    "class ElectricCar(Car):\n",
    "    def __init__(self, make, model, year, battery_level=0, battery_capacity=100):\n",
    "        super().__init__(make, model, year)\n",
    "        self.battery_level = battery_level\n",
    "        self.battery_capacity = battery_capacity\n",
    "\n",
    "    # Implementation of refuel for electric cars (charging)\n",
    "    def refuel(self, amount):\n",
    "        if amount > 0:\n",
    "            if self.battery_level + amount <= self.battery_capacity:\n",
    "                self.battery_level += amount\n",
    "                print(f\"Charged {amount}%. Battery level: {self.battery_level}%.\")\n",
    "            else:\n",
    "                print(\"Cannot charge beyond battery capacity!\")\n",
    "        else:\n",
    "            print(\"Charge amount must be positive.\")\n",
    "\n",
    "# Creating instances of GasCar and ElectricCar\n",
    "my_gas_car = GasCar(\"Toyota\", \"Camry\", 2020)\n",
    "my_electric_car = ElectricCar(\"Tesla\", \"Model 3\", 2022)\n",
    "\n",
    "# Refueling each car\n",
    "my_gas_car.refuel(10)          # Outputs: Added 10 gallons of gasoline. Fuel level: 10 gallons.\n",
    "my_electric_car.refuel(20)     # Outputs: Charged 20%. Battery level: 20%."
   ]
  },
  {
   "cell_type": "markdown",
   "id": "25cb514d",
   "metadata": {
    "papermill": {
     "duration": 0.010187,
     "end_time": "2024-11-11T23:23:52.674005",
     "exception": false,
     "start_time": "2024-11-11T23:23:52.663818",
     "status": "completed"
    },
    "tags": []
   },
   "source": [
    "### Key Points\n",
    "- **Abstract Base Class**: `Car` defines the `refuel` method as abstract, so every subclass must implement it.\n",
    "- **Different Implementations**: `GasCar` and `ElectricCar` implement `refuel` in their own way, tailored to the type of car.\n",
    "- **Common Interface**: By defining `refuel` as an abstract method, we ensure each subclass provides its own version, allowing us to use the same method name across different types of cars.\n",
    "\n",
    "This approach enforces a consistent interface while allowing each subclass to handle `refuel` in a way that suits its specific needs."
   ]
  },
  {
   "cell_type": "markdown",
   "id": "7619feed",
   "metadata": {
    "papermill": {
     "duration": 0.010258,
     "end_time": "2024-11-11T23:23:52.695363",
     "exception": false,
     "start_time": "2024-11-11T23:23:52.685105",
     "status": "completed"
    },
    "tags": []
   },
   "source": [
    "<a id=\"encaps\"></a>\n",
    "## Encapsulation"
   ]
  },
  {
   "cell_type": "markdown",
   "id": "6192c62b",
   "metadata": {
    "papermill": {
     "duration": 0.010606,
     "end_time": "2024-11-11T23:23:52.716348",
     "exception": false,
     "start_time": "2024-11-11T23:23:52.705742",
     "status": "completed"
    },
    "tags": []
   },
   "source": [
    "**Encapsulation** allows us to control how certain important attributes are accessed and modified. We use it to “hide” details that shouldn’t be changed directly, only through specific methods, to ensure the data remains correct.\n",
    "\n",
    "- In Python, we use an underscore (`_`) to indicate a protected attribute.\n",
    "\n",
    "\n",
    "\n",
    "### Example\n",
    "In this `Car` class, we make mileage a protected attribute because we don’t want anyone to set it directly, which could lead to incorrect data. Instead, we provide methods to add miles to the car in a controlled way.\n",
    "\n",
    "Key Points\n",
    "- Protected attribute: _mileage is protected because we don’t want it changed directly.\n",
    "- Getter method: get_mileage() safely retrieves the mileage.\n",
    "- Controlled modification: add_miles() only increases mileage if the input is positive.\n",
    "  \n",
    "This way, mileage can only be updated correctly, preventing mistakes and ensuring the data remains accurate."
   ]
  },
  {
   "cell_type": "code",
   "execution_count": 10,
   "id": "7f1a653d",
   "metadata": {
    "execution": {
     "iopub.execute_input": "2024-11-11T23:23:52.742901Z",
     "iopub.status.busy": "2024-11-11T23:23:52.742085Z",
     "iopub.status.idle": "2024-11-11T23:23:52.753673Z",
     "shell.execute_reply": "2024-11-11T23:23:52.752535Z"
    },
    "papermill": {
     "duration": 0.029555,
     "end_time": "2024-11-11T23:23:52.756417",
     "exception": false,
     "start_time": "2024-11-11T23:23:52.726862",
     "status": "completed"
    },
    "tags": []
   },
   "outputs": [
    {
     "name": "stdout",
     "output_type": "stream",
     "text": [
      "2020 Toyota Camry, Mileage: 5000 miles\n",
      "5150\n",
      "2020 Toyota Camry, Mileage: 5150 miles\n"
     ]
    }
   ],
   "source": [
    "class Car:\n",
    "    def __init__(self, make, model, year, mileage):\n",
    "        self.make = make            # Public attribute for car's make\n",
    "        self.model = model          # Public attribute for car's model\n",
    "        self.year = year            # Public attribute for car's year\n",
    "        self._mileage = mileage     # Protected attribute for car's mileage\n",
    "\n",
    "    # Getter method to view mileage safely\n",
    "    def get_mileage(self):\n",
    "        return self._mileage\n",
    "\n",
    "    # Method to add miles, ensuring mileage only increases\n",
    "    def add_miles(self, miles):\n",
    "        if miles > 0:\n",
    "            self._mileage += miles\n",
    "        else:\n",
    "            print(\"Miles to add must be positive.\")\n",
    "\n",
    "    def display_info(self):\n",
    "        return f\"{self.year} {self.make} {self.model}, Mileage: {self._mileage} miles\"\n",
    "\n",
    "# Creating a Car object\n",
    "my_car = Car(\"Toyota\", \"Camry\", 2020, 5000)\n",
    "print(my_car.display_info())  # Outputs: 2020 Toyota Camry, Mileage: 5000 miles\n",
    "\n",
    "# Safely adding miles using the add_miles method\n",
    "my_car.add_miles(150)\n",
    "print(my_car.get_mileage())   # Outputs: 5150\n",
    "print(my_car.display_info())  # Outputs: 2020 Toyota Camry, Mileage: 5150 miles\n",
    "\n",
    "# Attempting to set mileage directly would be incorrect, so we avoid this by protecting the attribute."
   ]
  },
  {
   "cell_type": "markdown",
   "id": "a4618d0e",
   "metadata": {
    "papermill": {
     "duration": 0.010401,
     "end_time": "2024-11-11T23:23:52.777547",
     "exception": false,
     "start_time": "2024-11-11T23:23:52.767146",
     "status": "completed"
    },
    "tags": []
   },
   "source": [
    "Here are some examples of how encapsulation can be useful in a Car class:\n",
    "<br>\n",
    "\n",
    "- `Fuel Level Protection`:\n",
    "\n",
    "    - We keep the fuel_level attribute protected, so it can't be modified directly.\n",
    "    - A method like add_fuel() ensures that fuel can only be added in safe amounts and won’t exceed the tank's capacity.\n",
    "<br>     \n",
    "\n",
    "- `Mileage Tracking`:\n",
    "\n",
    "    - The mileage attribute is protected to prevent accidental changes, as it reflects the car’s actual usage.\n",
    "    - Methods such as drive() increase the mileage based on the distance driven, keeping it accurate.\n",
    "<br>\n",
    "\n",
    "- `Speed Control`:\n",
    "\n",
    "    - The current_speed attribute could be protected to ensure it’s only changed by specific methods.\n",
    "    - A method like accelerate() might safely increase speed, while brake() reduces it, keeping control over how speed changes.\n",
    "<br>\n",
    "\n",
    "- `Maintenance Status`:\n",
    "\n",
    "    - If the car requires maintenance every certain number of miles, a protected maintenance_needed attribute could track this status.\n",
    "    - The drive() method could update this status after each trip, ensuring maintenance warnings are accurate.\n",
    "\n",
    "In each case, encapsulation helps ensure important car details like fuel level, mileage, speed, and maintenance are only updated in safe and meaningful ways, protecting the data and maintaining accuracy."
   ]
  },
  {
   "cell_type": "markdown",
   "id": "53f6d855",
   "metadata": {
    "papermill": {
     "duration": 0.010636,
     "end_time": "2024-11-11T23:23:52.798701",
     "exception": false,
     "start_time": "2024-11-11T23:23:52.788065",
     "status": "completed"
    },
    "tags": []
   },
   "source": [
    "## Hands-On Exercise"
   ]
  },
  {
   "cell_type": "markdown",
   "id": "c4aa0968",
   "metadata": {
    "papermill": {
     "duration": 0.010223,
     "end_time": "2024-11-11T23:23:52.819612",
     "exception": false,
     "start_time": "2024-11-11T23:23:52.809389",
     "status": "completed"
    },
    "tags": []
   },
   "source": [
    "\n",
    "\n",
    "### Practice Task\n",
    "\n",
    "**Task**: Create a `Book` class that models a book in a library. Then, create a child class `EBook` that represents an electronic book.\n",
    "\n",
    "### Instructions\n",
    "\n",
    "1. **Define the `Book` class**:\n",
    "   - Include attributes for `title`, `author`, and `year_published`.\n",
    "   - Define a method `get_info()` that returns a formatted string with the book's details.\n",
    "\n",
    "2. **Define the `EBook` class** (a child class of `Book`):\n",
    "   - Add an additional attribute `file_size` (in MB) to represent the file size of the eBook.\n",
    "   - Override the `get_info()` method to include the file size in the output.\n",
    "  \n",
    "### Example Output\n",
    "\n",
    "Once you complete the exercise, your code should be able to produce output similar to:\n",
    "\n",
    "```python\n",
    "# Creating an instance of Book\n",
    "my_book = Book(\"To Kill a Mockingbird\", \"Harper Lee\", 1960)\n",
    "print(my_book.get_info())  \n",
    "# Output: Title: To Kill a Mockingbird, Author: Harper Lee, Year: 1960\n",
    "\n",
    "# Creating an instance of EBook\n",
    "my_ebook = EBook(\"Digital Minimalism\", \"Cal Newport\", 2019, 5)\n",
    "print(my_ebook.get_info())  \n",
    "# Output: Title: Digital Minimalism, Author: Cal Newport, Year: 2019, File Size: 5MB\n",
    "```\n",
    "\n",
    "### Key Concepts Practiced\n",
    "- **Inheritance**: `EBook` inherits from `Book`.\n",
    "- **Method Overriding**: `EBook` overrides the `get_info()` method to add the file size.\n",
    "- **Encapsulation**: Attributes like `title`, `author`, and `year_published` are encapsulated within the `Book` and `EBook` classes.\n",
    "\n",
    "Follow the instructions and complete the starter code bellow:"
   ]
  },
  {
   "cell_type": "code",
   "execution_count": 11,
   "id": "808dd02f",
   "metadata": {
    "execution": {
     "iopub.execute_input": "2024-11-11T23:23:52.845177Z",
     "iopub.status.busy": "2024-11-11T23:23:52.844727Z",
     "iopub.status.idle": "2024-11-11T23:23:52.852599Z",
     "shell.execute_reply": "2024-11-11T23:23:52.851238Z"
    },
    "papermill": {
     "duration": 0.025455,
     "end_time": "2024-11-11T23:23:52.855833",
     "exception": false,
     "start_time": "2024-11-11T23:23:52.830378",
     "status": "completed"
    },
    "tags": []
   },
   "outputs": [
    {
     "name": "stdout",
     "output_type": "stream",
     "text": [
      "None\n"
     ]
    }
   ],
   "source": [
    "# Define the Book class\n",
    "class Book:\n",
    "    def __init__(self, title, author, year_published):\n",
    "        # Initialize title, author, and year_published attributes\n",
    "        pass\n",
    "\n",
    "    # Method to get book information\n",
    "    def get_info(self):\n",
    "        # Return formatted string with book details\n",
    "        pass\n",
    "\n",
    "# Define the EBook class that inherits from Book\n",
    "\n",
    "\n",
    "\n",
    "# Test the classes\n",
    "# Creating an instance of Book\n",
    "my_book = Book(\"To Kill a Mockingbird\", \"Harper Lee\", 1960)\n",
    "print(my_book.get_info())  # Expected output: Title: To Kill a Mockingbird, Author: Harper Lee, Year: 1960\n",
    "\n",
    "# Creating an instance of EBook"
   ]
  },
  {
   "cell_type": "markdown",
   "id": "69ef3e77",
   "metadata": {},
   "source": [
    "## **Extra Resources**\n",
    "\n",
    "https://journey.prog-8.com/en/scenes/web-application-development/skills/object-oriented-programming/"
   ]
  },
  {
   "cell_type": "code",
   "execution_count": 2,
   "id": "cc0cae93",
   "metadata": {},
   "outputs": [
    {
     "data": {
      "text/html": [
       "\n",
       "<iframe\n",
       "\tsrc=\"https://forms.gle/EYpkAE97aC7QTS2a6\",\n",
       "  width=\"80%\"\n",
       "\theight=\"1200px\" >\n",
       "\tLoading...\n",
       "</iframe>\n"
      ],
      "text/plain": [
       "<IPython.core.display.HTML object>"
      ]
     },
     "execution_count": 2,
     "metadata": {},
     "output_type": "execute_result"
    }
   ],
   "source": [
    "# @title Generate Feedback Form. (Run Cell)\n",
    "from IPython.display import HTML\n",
    "\n",
    "HTML(\n",
    "    \"\"\"\n",
    "<iframe\n",
    "\tsrc=\"https://forms.gle/EYpkAE97aC7QTS2a6\",\n",
    "  width=\"80%\"\n",
    "\theight=\"1200px\" >\n",
    "\tLoading...\n",
    "</iframe>\n",
    "\"\"\"\n",
    ")"
   ]
  }
 ],
 "metadata": {
  "kaggle": {
   "accelerator": "none",
   "dataSources": [],
   "dockerImageVersionId": 30786,
   "isGpuEnabled": false,
   "isInternetEnabled": true,
   "language": "python",
   "sourceType": "notebook"
  },
  "kernelspec": {
   "display_name": "Python 3",
   "language": "python",
   "name": "python3"
  },
  "language_info": {
   "codemirror_mode": {
    "name": "ipython",
    "version": 3
   },
   "file_extension": ".py",
   "mimetype": "text/x-python",
   "name": "python",
   "nbconvert_exporter": "python",
   "pygments_lexer": "ipython3",
   "version": "3.11.9"
  },
  "papermill": {
   "default_parameters": {},
   "duration": 4.365049,
   "end_time": "2024-11-11T23:23:53.293309",
   "environment_variables": {},
   "exception": null,
   "input_path": "__notebook__.ipynb",
   "output_path": "__notebook__.ipynb",
   "parameters": {},
   "start_time": "2024-11-11T23:23:48.928260",
   "version": "2.6.0"
  }
 },
 "nbformat": 4,
 "nbformat_minor": 5
}
